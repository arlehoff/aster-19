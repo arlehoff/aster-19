{
 "cells": [
  {
   "cell_type": "markdown",
   "id": "1003c0ea-2f97-43f6-af32-bed8f76517d8",
   "metadata": {},
   "source": [
    "# Sin and Cosine Function Calculation\n",
    "1. Define functions to calculate `sin(x)` and `cos(x)`.\n",
    "2. Tabulate the values of `sin(x)` and `cos(x)` for `x` between 0 and 2π.\n",
    "3. Print the first 10 values of `x`, `sin(x)`, and `cos(x)` in columns.\n"
   ]
  },
  {
   "cell_type": "code",
   "execution_count": null,
   "id": "083e7114-67a1-4d38-a218-e0138dbc68bf",
   "metadata": {},
   "outputs": [],
   "source": [
    "import math\n",
    "\n",
    "def sin_function(x):\n",
    "        \"\"\"This function returns the sine of x, where x is in radians.\"\"\"\n",
    "        return math.sin(x)"
   ]
  },
  {
   "cell_type": "code",
   "execution_count": null,
   "id": "145236ac-8e34-48db-a0ae-02b67b86617b",
   "metadata": {},
   "outputs": [],
   "source": [
    "def cos_function(x):\n",
    "        \"\"\"This function returns the cosine of x, where x is in radians.\"\"\"\n",
    "        return math.cos(x)"
   ]
  },
  {
   "cell_type": "markdown",
   "id": "75264d99-a474-4e46-9609-dd7cb0197829",
   "metadata": {},
   "source": [
    "# Tabulate sin(x) and cos(x)\n",
    "In this cell, we will generate values for `x` ranging from 0 to 2π with 1000 points, and then calculate the corresponding values of `sin(x)` and `cos(x)`."
   ]
  },
  {
   "cell_type": "code",
   "execution_count": null,
   "id": "6ab7281a-431b-4823-b3c0-4e18e621656e",
   "metadata": {},
   "outputs": [],
   "source": [
    "print(\"x value | sin(x)  | cos(x)\")\n",
    "print(\"-\" * 30)\n",
    "for x, sin_val, cos_val in zip(x_values[:10], sin_values[:10], cos_values[:10]):\n",
    "    print(f\"{x:.5f} | {sin_val:.5f} | {cos_val:.5f}\")"
   ]
  },
  {
   "cell_type": "markdown",
   "id": "42ed13a7-cde0-4717-b7fe-821bed1802a0",
   "metadata": {},
   "source": [
    "# Printing the First 10 Values of x, sin(x), and cos(x)\n",
    "In this cell, we will use a `for` loop to print out the first 10 values of `x`, `sin(x)`, and `cos(x)` in a tabular format.\n"
   ]
  },
  {
   "cell_type": "code",
   "execution_count": null,
   "id": "6cb3b0d3-d2b7-4339-b7ac-f3b354e24827",
   "metadata": {},
   "outputs": [],
   "source": [
    "for i in range(10):\n",
    "    print(f\"x: {x_values[i]:.5f}, sin(x): {sin_values[i]:.5f}, cos(x): {cos_values[i]:.5f}\")"
   ]
  },
  {
   "cell_type": "code",
   "execution_count": null,
   "id": "c3d65f68-3255-4333-b69b-ee806acf7220",
   "metadata": {},
   "outputs": [],
   "source": []
  }
 ],
 "metadata": {
  "kernelspec": {
   "display_name": "",
   "name": ""
  },
  "language_info": {
   "name": ""
  }
 },
 "nbformat": 4,
 "nbformat_minor": 5
}
