{
 "cells": [
  {
   "cell_type": "markdown",
   "id": "773e39de-47fb-4fe7-93e2-b37894911540",
   "metadata": {},
   "source": [
    "import libraries "
   ]
  },
  {
   "cell_type": "code",
   "execution_count": 9,
   "id": "3df9dc12-5462-4818-bb01-e234979f8ffa",
   "metadata": {},
   "outputs": [],
   "source": [
    "import numpy as np\n",
    "import matplotlib.pyplot as plt"
   ]
  },
  {
   "cell_type": "markdown",
   "id": "2d9081a5-3f8c-44ad-85a9-e8d8722011d1",
   "metadata": {},
   "source": [
    "create a numpy array x ranging from [0,1] in 100 steps "
   ]
  },
  {
   "cell_type": "code",
   "execution_count": 10,
   "id": "58c361c9-7ae9-4604-a2b7-18df072d0af3",
   "metadata": {},
   "outputs": [],
   "source": [
    "x = np.linspace(0, 1, 100)"
   ]
  },
  {
   "cell_type": "markdown",
   "id": "df003819-6e2a-4e3d-abf9-e1416e053cc8",
   "metadata": {},
   "source": [
    "define functions that return sin(x) and cos(x)"
   ]
  },
  {
   "cell_type": "code",
   "execution_count": 11,
   "id": "af7d9c34-d612-477a-854b-edf7ee56a552",
   "metadata": {},
   "outputs": [],
   "source": [
    "def sin_function(x):\n",
    "    return np.sin(x)\n",
    "    \n",
    "def cos_function(x):\n",
    "    return np.cos(x)"
   ]
  },
  {
   "cell_type": "markdown",
   "id": "fb05f157-8633-493f-907a-9e1e00fcaff9",
   "metadata": {},
   "source": [
    "use the function to set y values, create a multipanel plot ( 1 row, 2 columns). plot sin(x) vs. x in the left panel then plot cos(x) vs. x in the right panel. Then save as pdf. "
   ]
  },
  {
   "cell_type": "code",
   "execution_count": 12,
   "id": "c4c06df9-8ff9-41f7-b528-b07283a202be",
   "metadata": {},
   "outputs": [],
   "source": [
    "y_sin = sin_function(x)\n",
    "y_cos = cos_function(x)\n",
    "\n",
    "fig, axs = plt.subplots(1, 2, figsize=(10, 4))\n",
    "\n",
    "axs[0].plot(x, y_sin)\n",
    "axs[0].set_title('sin(x)')\n",
    "axs[0].set_xlabel('x')\n",
    "axs[0].set_ylabel('sin(x)')\n",
    "\n",
    "axs[1].plot(x, y_cos)\n",
    "axs[1].set_title('cos(x)')\n",
    "axs[1].set_xlabel('x')\n",
    "axs[1].set_ylabel('cos(x)')\n",
    "\n",
    "plt.savefig('sine_cosine_plot.pdf')\n",
    "plt.show()"
   ]
  }
 ],
 "metadata": {
  "kernelspec": {
   "display_name": "Python 3 (ipykernel)",
   "language": "python",
   "name": "python3"
  },
  "language_info": {
   "codemirror_mode": {
    "name": "ipython",
    "version": 3
   },
   "file_extension": ".py",
   "mimetype": "text/x-python",
   "name": "python",
   "nbconvert_exporter": "python",
   "pygments_lexer": "ipython3",
   "version": "3.13.2"
  }
 },
 "nbformat": 4,
 "nbformat_minor": 5
}
